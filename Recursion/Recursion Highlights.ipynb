{
 "cells": [
  {
   "cell_type": "code",
   "execution_count": 2,
   "metadata": {},
   "outputs": [],
   "source": [
    "#This function attempts to calculate the factorial of a number\n",
    "def fact(n):\n",
    "    if(n == 0 or n == 1):\n",
    "        return 1\n",
    "    else:\n",
    "        return(n * fact(n-1))"
   ]
  },
  {
   "cell_type": "code",
   "execution_count": 4,
   "metadata": {},
   "outputs": [
    {
     "data": {
      "text/plain": [
       "3628800"
      ]
     },
     "execution_count": 4,
     "metadata": {},
     "output_type": "execute_result"
    }
   ],
   "source": [
    "fact(10)"
   ]
  },
  {
   "cell_type": "code",
   "execution_count": 6,
   "metadata": {},
   "outputs": [
    {
     "data": {
      "text/plain": [
       "93326215443944152681699238856266700490715968264381621468592963895217599993229915608941463976156518286253697920827223758251185210916864000000000000000000000000"
      ]
     },
     "execution_count": 6,
     "metadata": {},
     "output_type": "execute_result"
    }
   ],
   "source": [
    "fact(100)"
   ]
  },
  {
   "cell_type": "code",
   "execution_count": 4,
   "metadata": {},
   "outputs": [],
   "source": [
    "#This function attempts to return the nth fibonacci number\n",
    "def fibo(n):\n",
    "    if(n <= 0):\n",
    "        return None\n",
    "    elif(n == 2):\n",
    "        return 1\n",
    "    else:\n",
    "        return(fibo(n-1)+fibo(n-2))"
   ]
  },
  {
   "cell_type": "code",
   "execution_count": 3,
   "metadata": {},
   "outputs": [
    {
     "data": {
      "text/plain": [
       "55"
      ]
     },
     "execution_count": 3,
     "metadata": {},
     "output_type": "execute_result"
    }
   ],
   "source": [
    "fibo(10)"
   ]
  },
  {
   "cell_type": "code",
   "execution_count": 12,
   "metadata": {},
   "outputs": [
    {
     "data": {
      "text/plain": [
       "144"
      ]
     },
     "execution_count": 12,
     "metadata": {},
     "output_type": "execute_result"
    }
   ],
   "source": [
    "fibo(12)"
   ]
  },
  {
   "cell_type": "code",
   "execution_count": 15,
   "metadata": {},
   "outputs": [],
   "source": [
    "#This function attempts to calculate the sum of numbers in a list\n",
    "def list_sum(n):\n",
    "    if(len(n)==0):\n",
    "        return 0\n",
    "    else:\n",
    "        return(n[0]+list_sum(n[1:]))"
   ]
  },
  {
   "cell_type": "code",
   "execution_count": 17,
   "metadata": {},
   "outputs": [
    {
     "data": {
      "text/plain": [
       "15"
      ]
     },
     "execution_count": 17,
     "metadata": {},
     "output_type": "execute_result"
    }
   ],
   "source": [
    "list_sum([1,2,3,4,5])"
   ]
  },
  {
   "cell_type": "code",
   "execution_count": 18,
   "metadata": {},
   "outputs": [
    {
     "data": {
      "text/plain": [
       "19"
      ]
     },
     "execution_count": 18,
     "metadata": {},
     "output_type": "execute_result"
    }
   ],
   "source": [
    "list_sum([2,3,4,1,9])"
   ]
  },
  {
   "cell_type": "code",
   "execution_count": 20,
   "metadata": {},
   "outputs": [],
   "source": [
    "#This function attempts to calculate the maximum number in a list\n",
    "def max_list(n):\n",
    "    if(len(n)==0):\n",
    "        return None\n",
    "    elif(len(n)==1):\n",
    "        return n[0]\n",
    "    else:\n",
    "        return max(n[0], max_list(n[1:]))"
   ]
  },
  {
   "cell_type": "code",
   "execution_count": 21,
   "metadata": {},
   "outputs": [
    {
     "data": {
      "text/plain": [
       "101"
      ]
     },
     "execution_count": 21,
     "metadata": {},
     "output_type": "execute_result"
    }
   ],
   "source": [
    "max_list([1, 2, 3, 4, 5, 6, 7, 8, 101])"
   ]
  },
  {
   "cell_type": "code",
   "execution_count": 22,
   "metadata": {},
   "outputs": [
    {
     "data": {
      "text/plain": [
       "102"
      ]
     },
     "execution_count": 22,
     "metadata": {},
     "output_type": "execute_result"
    }
   ],
   "source": [
    "max_list([101, 101, 102, 102])"
   ]
  },
  {
   "cell_type": "code",
   "execution_count": 23,
   "metadata": {},
   "outputs": [],
   "source": [
    "#This function attempts to calculate the nth power of m\n",
    "def power_calc(m, n):\n",
    "    if(n == 0):\n",
    "        return 1\n",
    "    elif(n == 1):\n",
    "        return m\n",
    "    else:\n",
    "        return(m * power_calc(m, n-1))"
   ]
  },
  {
   "cell_type": "code",
   "execution_count": 24,
   "metadata": {},
   "outputs": [
    {
     "data": {
      "text/plain": [
       "1024"
      ]
     },
     "execution_count": 24,
     "metadata": {},
     "output_type": "execute_result"
    }
   ],
   "source": [
    "power_calc(4, 5)"
   ]
  },
  {
   "cell_type": "code",
   "execution_count": 25,
   "metadata": {},
   "outputs": [
    {
     "data": {
      "text/plain": [
       "64"
      ]
     },
     "execution_count": 25,
     "metadata": {},
     "output_type": "execute_result"
    }
   ],
   "source": [
    "power_calc(2, 6)"
   ]
  },
  {
   "cell_type": "code",
   "execution_count": 26,
   "metadata": {},
   "outputs": [],
   "source": [
    "#This function checks if a string is a pallindrome\n",
    "def is_pallindrome(s):\n",
    "    if(len(s) <= 0):\n",
    "        return True\n",
    "    else:\n",
    "        return (s[0]==s[len(s)-1] and is_pallindrome(s[1:len(s)-1]))"
   ]
  },
  {
   "cell_type": "code",
   "execution_count": 27,
   "metadata": {},
   "outputs": [
    {
     "data": {
      "text/plain": [
       "True"
      ]
     },
     "execution_count": 27,
     "metadata": {},
     "output_type": "execute_result"
    }
   ],
   "source": [
    "is_pallindrome(\"naman\")"
   ]
  },
  {
   "cell_type": "code",
   "execution_count": 28,
   "metadata": {},
   "outputs": [
    {
     "data": {
      "text/plain": [
       "False"
      ]
     },
     "execution_count": 28,
     "metadata": {},
     "output_type": "execute_result"
    }
   ],
   "source": [
    "is_pallindrome(\"biscuit\")"
   ]
  },
  {
   "cell_type": "code",
   "execution_count": 29,
   "metadata": {},
   "outputs": [],
   "source": [
    "#This function attempts to compute the sum of natural numbers using recursion\n",
    "def nat_sum(n):\n",
    "    if(n == 1):\n",
    "        return 1\n",
    "    else:\n",
    "        return(n + nat_sum(n-1))"
   ]
  },
  {
   "cell_type": "code",
   "execution_count": 30,
   "metadata": {},
   "outputs": [
    {
     "data": {
      "text/plain": [
       "5050"
      ]
     },
     "execution_count": 30,
     "metadata": {},
     "output_type": "execute_result"
    }
   ],
   "source": [
    "nat_sum(100)"
   ]
  },
  {
   "cell_type": "code",
   "execution_count": 31,
   "metadata": {},
   "outputs": [
    {
     "data": {
      "text/plain": [
       "55"
      ]
     },
     "execution_count": 31,
     "metadata": {},
     "output_type": "execute_result"
    }
   ],
   "source": [
    "nat_sum(10)"
   ]
  },
  {
   "cell_type": "code",
   "execution_count": 33,
   "metadata": {},
   "outputs": [],
   "source": [
    "#This function attempts to play the \"Towers of Hanoi\" game. \n",
    "#It demonstrates how to win the game based on the number of disks on the first pole.\n",
    "#Ideally, it takes 2^n - 1 moves to win the game\n",
    "def tow_of_hanoi(n, source, temppole, destpole):\n",
    "    if(n > 0):\n",
    "        tow_of_hanoi(n-1, source, temppole, destpole)\n",
    "        print(\"Move disc from\", source, \"to\", destpole)\n",
    "        tow_of_hanoi(n-1, temppole, source, destpole)"
   ]
  },
  {
   "cell_type": "code",
   "execution_count": 34,
   "metadata": {},
   "outputs": [
    {
     "name": "stdout",
     "output_type": "stream",
     "text": [
      "Move disc from Pole 1 to Pole 3\n",
      "Move disc from Pole 1 to Pole 3\n",
      "Move disc from Pole 2 to Pole 3\n",
      "Move disc from Pole 1 to Pole 3\n",
      "Move disc from Pole 2 to Pole 3\n",
      "Move disc from Pole 2 to Pole 3\n",
      "Move disc from Pole 1 to Pole 3\n",
      "Move disc from Pole 1 to Pole 3\n",
      "Move disc from Pole 2 to Pole 3\n",
      "Move disc from Pole 2 to Pole 3\n",
      "Move disc from Pole 1 to Pole 3\n",
      "Move disc from Pole 2 to Pole 3\n",
      "Move disc from Pole 1 to Pole 3\n",
      "Move disc from Pole 1 to Pole 3\n",
      "Move disc from Pole 2 to Pole 3\n"
     ]
    }
   ],
   "source": [
    "tow_of_hanoi(4, \"Pole 1\", \"Pole 2\", \"Pole 3\")"
   ]
  },
  {
   "cell_type": "code",
   "execution_count": 35,
   "metadata": {},
   "outputs": [
    {
     "name": "stdout",
     "output_type": "stream",
     "text": [
      "Move disc from Pole 1 to Pole 3\n",
      "Move disc from Pole 1 to Pole 3\n",
      "Move disc from Pole 2 to Pole 3\n",
      "Move disc from Pole 1 to Pole 3\n",
      "Move disc from Pole 2 to Pole 3\n",
      "Move disc from Pole 2 to Pole 3\n",
      "Move disc from Pole 1 to Pole 3\n"
     ]
    }
   ],
   "source": [
    "tow_of_hanoi(3, \"Pole 1\", \"Pole 2\", \"Pole 3\")"
   ]
  }
 ],
 "metadata": {
  "kernelspec": {
   "display_name": "Python 3",
   "language": "python",
   "name": "python3"
  },
  "language_info": {
   "codemirror_mode": {
    "name": "ipython",
    "version": 3
   },
   "file_extension": ".py",
   "mimetype": "text/x-python",
   "name": "python",
   "nbconvert_exporter": "python",
   "pygments_lexer": "ipython3",
   "version": "3.8.8"
  }
 },
 "nbformat": 4,
 "nbformat_minor": 4
}
